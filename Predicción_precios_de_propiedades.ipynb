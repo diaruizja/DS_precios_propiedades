{
  "nbformat": 4,
  "nbformat_minor": 0,
  "metadata": {
    "kernelspec": {
      "display_name": "Python 3",
      "language": "python",
      "name": "python3"
    },
    "language_info": {
      "codemirror_mode": {
        "name": "ipython",
        "version": 3
      },
      "file_extension": ".py",
      "mimetype": "text/x-python",
      "name": "python",
      "nbconvert_exporter": "python",
      "pygments_lexer": "ipython3",
      "version": "3.6.5"
    },
    "colab": {
      "name": "Predicción precios de propiedades.ipynb",
      "provenance": [],
      "collapsed_sections": [],
      "include_colab_link": true
    }
  },
  "cells": [
    {
      "cell_type": "markdown",
      "metadata": {
        "id": "view-in-github",
        "colab_type": "text"
      },
      "source": [
        "<a href=\"https://colab.research.google.com/github/diaruizja/DS_precios_propiedades/blob/master/Predicci%C3%B3n_precios_de_propiedades.ipynb\" target=\"_parent\"><img src=\"https://colab.research.google.com/assets/colab-badge.svg\" alt=\"Open In Colab\"/></a>"
      ]
    },
    {
      "cell_type": "markdown",
      "metadata": {
        "id": "y2CqjPLHFyg2",
        "colab_type": "text"
      },
      "source": [
        "# Proyecto 3: Predicción de precios de propiedades"
      ]
    },
    {
      "cell_type": "markdown",
      "metadata": {
        "id": "BpCijN2tFyg5",
        "colab_type": "text"
      },
      "source": [
        "¡Bienvenidos al tercer proyecto de la carrera de Data Science de Acamica! \n",
        "\n",
        "En este proyecto vamos a seguir trabajando con el dataset de propiedades en venta publicadas en el portal [Properati](www.properati.com.ar). El objetivo en este caso armar nuestros primeros modelos para predecir el precio de las propiedades en dólares.\n",
        "\n",
        "Las columnas que se agregan son:\n",
        "\n",
        "* `barrios_match`: si coincide el barrio publicado con el geográfico vale 1, si no 0.\n",
        "\n",
        "* `PH`, `apartment`, `house`: variables binarias que indican el tipo de propiedad.\n",
        "\n",
        "* dummies de barrios: variables binarias con 1 o 0 según el barrio.\n",
        "\n",
        "La métrica que vamos a usar para medir es RMSE (raíz del error cuadrático medio), cuya fórmula es:\n",
        "\n",
        "$$RMSE = \\sqrt{\\frac{\\sum_{t=1}^n (\\hat y_t - y_t)^2}{n}}$$"
      ]
    },
    {
      "cell_type": "code",
      "metadata": {
        "id": "kphRWfXCJHf6",
        "colab_type": "code",
        "colab": {
          "base_uri": "https://localhost:8080/",
          "height": 122
        },
        "outputId": "f9863928-5767-4477-ee0a-15f4ef5d0c9d"
      },
      "source": [
        "from google.colab import drive\n",
        "drive.mount('/content/drive')"
      ],
      "execution_count": null,
      "outputs": [
        {
          "output_type": "stream",
          "text": [
            "Go to this URL in a browser: https://accounts.google.com/o/oauth2/auth?client_id=947318989803-6bn6qk8qdgf4n4g3pfee6491hc0brc4i.apps.googleusercontent.com&redirect_uri=urn%3aietf%3awg%3aoauth%3a2.0%3aoob&response_type=code&scope=email%20https%3a%2f%2fwww.googleapis.com%2fauth%2fdocs.test%20https%3a%2f%2fwww.googleapis.com%2fauth%2fdrive%20https%3a%2f%2fwww.googleapis.com%2fauth%2fdrive.photos.readonly%20https%3a%2f%2fwww.googleapis.com%2fauth%2fpeopleapi.readonly\n",
            "\n",
            "Enter your authorization code:\n",
            "··········\n",
            "Mounted at /content/drive\n"
          ],
          "name": "stdout"
        }
      ]
    },
    {
      "cell_type": "code",
      "metadata": {
        "id": "awTVSkHGFyg8",
        "colab_type": "code",
        "colab": {}
      },
      "source": [
        "import pandas as pd\n",
        "pd.set_option('display.float_format', lambda x: '%.3f' % x)\n",
        "path_dataset = '/content/drive/My Drive/Data Science/Entregas de proyectos/Entrega #3/datos_properati_limpios_model.csv'\n",
        "df = pd.read_csv(path_dataset)"
      ],
      "execution_count": null,
      "outputs": []
    },
    {
      "cell_type": "code",
      "metadata": {
        "id": "g8pXcuy0FyhH",
        "colab_type": "code",
        "colab": {
          "base_uri": "https://localhost:8080/",
          "height": 34
        },
        "outputId": "c957f386-cd31-42bf-9119-eb719ab022bc"
      },
      "source": [
        "print(\"El dataset que vamos a trabajar aquí tiene {} observaciones\".format(df.shape[0]))"
      ],
      "execution_count": null,
      "outputs": [
        {
          "output_type": "stream",
          "text": [
            "El dataset que vamos a trabajar aquí tiene 6376 observaciones\n"
          ],
          "name": "stdout"
        }
      ]
    },
    {
      "cell_type": "markdown",
      "metadata": {
        "id": "M4qYYluXFyhS",
        "colab_type": "text"
      },
      "source": [
        "El objetivo de este proyecto es poder trabajar en el ajuste de modelos y su posterior evaluación."
      ]
    },
    {
      "cell_type": "markdown",
      "metadata": {
        "id": "PAgwICkRFyhU",
        "colab_type": "text"
      },
      "source": [
        "Para empezar vamos a separar el `dataset` en un conjunto de entrenamiento (80%) y un conjunto de test (20%). \n",
        "\n",
        "**Separá el dataset** en `X_train`, `X_test`, `y_train` e `y_test` con el tamaño correspondiente"
      ]
    },
    {
      "cell_type": "code",
      "metadata": {
        "id": "EdQFs2LqFyhW",
        "colab_type": "code",
        "colab": {
          "base_uri": "https://localhost:8080/",
          "height": 85
        },
        "outputId": "d9e9ca41-7b32-45d2-d32b-c3b9b0b10775"
      },
      "source": [
        "x = df.drop(['price_aprox_usd'], axis=1)\n",
        "y = df['price_aprox_usd']\n",
        "\n",
        "# Realizá la separación a continuación en esta celda\n",
        "from sklearn.model_selection import train_test_split\n",
        "x_train, x_test, y_train, y_test = train_test_split(x, y, test_size=0.2, random_state=42)\n",
        "print(x_train.shape, \"\\n\", y_train.shape, \"\\n\", x_test.shape, \"\\n\", y_test.shape)"
      ],
      "execution_count": null,
      "outputs": [
        {
          "output_type": "stream",
          "text": [
            "(5100, 58) \n",
            " (5100,) \n",
            " (1276, 58) \n",
            " (1276,)\n"
          ],
          "name": "stdout"
        }
      ]
    },
    {
      "cell_type": "code",
      "metadata": {
        "id": "v8nLCZ8PYFuB",
        "colab_type": "code",
        "colab": {
          "base_uri": "https://localhost:8080/",
          "height": 258
        },
        "outputId": "86d4559f-01dc-4b0d-e9f0-c357eab2ac38"
      },
      "source": [
        "x_train.head()"
      ],
      "execution_count": null,
      "outputs": [
        {
          "output_type": "execute_result",
          "data": {
            "text/html": [
              "<div>\n",
              "<style scoped>\n",
              "    .dataframe tbody tr th:only-of-type {\n",
              "        vertical-align: middle;\n",
              "    }\n",
              "\n",
              "    .dataframe tbody tr th {\n",
              "        vertical-align: top;\n",
              "    }\n",
              "\n",
              "    .dataframe thead th {\n",
              "        text-align: right;\n",
              "    }\n",
              "</style>\n",
              "<table border=\"1\" class=\"dataframe\">\n",
              "  <thead>\n",
              "    <tr style=\"text-align: right;\">\n",
              "      <th></th>\n",
              "      <th>lat</th>\n",
              "      <th>lon</th>\n",
              "      <th>surface_total_in_m2</th>\n",
              "      <th>surface_covered_in_m2</th>\n",
              "      <th>rooms</th>\n",
              "      <th>barrio_match</th>\n",
              "      <th>PH</th>\n",
              "      <th>apartment</th>\n",
              "      <th>house</th>\n",
              "      <th>AGRONOMIA</th>\n",
              "      <th>ALMAGRO</th>\n",
              "      <th>BALVANERA</th>\n",
              "      <th>BARRACAS</th>\n",
              "      <th>BELGRANO</th>\n",
              "      <th>BOCA</th>\n",
              "      <th>BOEDO</th>\n",
              "      <th>CABALLITO</th>\n",
              "      <th>CHACARITA</th>\n",
              "      <th>COGHLAN</th>\n",
              "      <th>COLEGIALES</th>\n",
              "      <th>CONSTITUCION</th>\n",
              "      <th>FLORES</th>\n",
              "      <th>FLORESTA</th>\n",
              "      <th>LINIERS</th>\n",
              "      <th>MATADEROS</th>\n",
              "      <th>MONSERRAT</th>\n",
              "      <th>MONTE CASTRO</th>\n",
              "      <th>NUEVA POMPEYA</th>\n",
              "      <th>NUEZ</th>\n",
              "      <th>PALERMO</th>\n",
              "      <th>PARQUE AVELLANEDA</th>\n",
              "      <th>PARQUE CHACABUCO</th>\n",
              "      <th>PARQUE CHAS</th>\n",
              "      <th>PARQUE PATRICIOS</th>\n",
              "      <th>PATERNAL</th>\n",
              "      <th>PUERTO MADERO</th>\n",
              "      <th>RECOLETA</th>\n",
              "      <th>RETIRO</th>\n",
              "      <th>SAAVEDRA</th>\n",
              "      <th>SAN CRISTOBAL</th>\n",
              "      <th>SAN NICOLAS</th>\n",
              "      <th>SAN TELMO</th>\n",
              "      <th>VELEZ SARSFIELD</th>\n",
              "      <th>VERSALLES</th>\n",
              "      <th>VILLA CRESPO</th>\n",
              "      <th>VILLA DEL PARQUE</th>\n",
              "      <th>VILLA DEVOTO</th>\n",
              "      <th>VILLA GRAL. MITRE</th>\n",
              "      <th>VILLA LUGANO</th>\n",
              "      <th>VILLA LURO</th>\n",
              "      <th>VILLA ORTUZAR</th>\n",
              "      <th>VILLA PUEYRREDON</th>\n",
              "      <th>VILLA REAL</th>\n",
              "      <th>VILLA RIACHUELO</th>\n",
              "      <th>VILLA SANTA RITA</th>\n",
              "      <th>VILLA SOLDATI</th>\n",
              "      <th>VILLA URQUIZA</th>\n",
              "      <th>outlier_price_m2</th>\n",
              "    </tr>\n",
              "  </thead>\n",
              "  <tbody>\n",
              "    <tr>\n",
              "      <th>5162</th>\n",
              "      <td>-34.614</td>\n",
              "      <td>-58.476</td>\n",
              "      <td>45.000</td>\n",
              "      <td>39.000</td>\n",
              "      <td>1</td>\n",
              "      <td>0</td>\n",
              "      <td>0</td>\n",
              "      <td>1</td>\n",
              "      <td>0</td>\n",
              "      <td>0</td>\n",
              "      <td>0</td>\n",
              "      <td>0</td>\n",
              "      <td>0</td>\n",
              "      <td>0</td>\n",
              "      <td>0</td>\n",
              "      <td>0</td>\n",
              "      <td>0</td>\n",
              "      <td>0</td>\n",
              "      <td>0</td>\n",
              "      <td>0</td>\n",
              "      <td>0</td>\n",
              "      <td>0</td>\n",
              "      <td>0</td>\n",
              "      <td>0</td>\n",
              "      <td>0</td>\n",
              "      <td>0</td>\n",
              "      <td>0</td>\n",
              "      <td>0</td>\n",
              "      <td>0</td>\n",
              "      <td>0</td>\n",
              "      <td>0</td>\n",
              "      <td>0</td>\n",
              "      <td>0</td>\n",
              "      <td>0</td>\n",
              "      <td>0</td>\n",
              "      <td>0</td>\n",
              "      <td>0</td>\n",
              "      <td>0</td>\n",
              "      <td>0</td>\n",
              "      <td>0</td>\n",
              "      <td>0</td>\n",
              "      <td>0</td>\n",
              "      <td>0</td>\n",
              "      <td>0</td>\n",
              "      <td>0</td>\n",
              "      <td>0</td>\n",
              "      <td>0</td>\n",
              "      <td>1</td>\n",
              "      <td>0</td>\n",
              "      <td>0</td>\n",
              "      <td>0</td>\n",
              "      <td>0</td>\n",
              "      <td>0</td>\n",
              "      <td>0</td>\n",
              "      <td>0</td>\n",
              "      <td>0</td>\n",
              "      <td>0</td>\n",
              "      <td>0</td>\n",
              "    </tr>\n",
              "    <tr>\n",
              "      <th>320</th>\n",
              "      <td>-34.575</td>\n",
              "      <td>-58.419</td>\n",
              "      <td>27.000</td>\n",
              "      <td>27.000</td>\n",
              "      <td>1</td>\n",
              "      <td>1</td>\n",
              "      <td>0</td>\n",
              "      <td>1</td>\n",
              "      <td>0</td>\n",
              "      <td>0</td>\n",
              "      <td>0</td>\n",
              "      <td>0</td>\n",
              "      <td>0</td>\n",
              "      <td>0</td>\n",
              "      <td>0</td>\n",
              "      <td>0</td>\n",
              "      <td>0</td>\n",
              "      <td>0</td>\n",
              "      <td>0</td>\n",
              "      <td>0</td>\n",
              "      <td>0</td>\n",
              "      <td>0</td>\n",
              "      <td>0</td>\n",
              "      <td>0</td>\n",
              "      <td>0</td>\n",
              "      <td>0</td>\n",
              "      <td>0</td>\n",
              "      <td>0</td>\n",
              "      <td>0</td>\n",
              "      <td>1</td>\n",
              "      <td>0</td>\n",
              "      <td>0</td>\n",
              "      <td>0</td>\n",
              "      <td>0</td>\n",
              "      <td>0</td>\n",
              "      <td>0</td>\n",
              "      <td>0</td>\n",
              "      <td>0</td>\n",
              "      <td>0</td>\n",
              "      <td>0</td>\n",
              "      <td>0</td>\n",
              "      <td>0</td>\n",
              "      <td>0</td>\n",
              "      <td>0</td>\n",
              "      <td>0</td>\n",
              "      <td>0</td>\n",
              "      <td>0</td>\n",
              "      <td>0</td>\n",
              "      <td>0</td>\n",
              "      <td>0</td>\n",
              "      <td>0</td>\n",
              "      <td>0</td>\n",
              "      <td>0</td>\n",
              "      <td>0</td>\n",
              "      <td>0</td>\n",
              "      <td>0</td>\n",
              "      <td>0</td>\n",
              "      <td>0</td>\n",
              "    </tr>\n",
              "    <tr>\n",
              "      <th>4297</th>\n",
              "      <td>-34.608</td>\n",
              "      <td>-58.441</td>\n",
              "      <td>69.000</td>\n",
              "      <td>60.000</td>\n",
              "      <td>3</td>\n",
              "      <td>1</td>\n",
              "      <td>0</td>\n",
              "      <td>1</td>\n",
              "      <td>0</td>\n",
              "      <td>0</td>\n",
              "      <td>0</td>\n",
              "      <td>0</td>\n",
              "      <td>0</td>\n",
              "      <td>0</td>\n",
              "      <td>0</td>\n",
              "      <td>0</td>\n",
              "      <td>1</td>\n",
              "      <td>0</td>\n",
              "      <td>0</td>\n",
              "      <td>0</td>\n",
              "      <td>0</td>\n",
              "      <td>0</td>\n",
              "      <td>0</td>\n",
              "      <td>0</td>\n",
              "      <td>0</td>\n",
              "      <td>0</td>\n",
              "      <td>0</td>\n",
              "      <td>0</td>\n",
              "      <td>0</td>\n",
              "      <td>0</td>\n",
              "      <td>0</td>\n",
              "      <td>0</td>\n",
              "      <td>0</td>\n",
              "      <td>0</td>\n",
              "      <td>0</td>\n",
              "      <td>0</td>\n",
              "      <td>0</td>\n",
              "      <td>0</td>\n",
              "      <td>0</td>\n",
              "      <td>0</td>\n",
              "      <td>0</td>\n",
              "      <td>0</td>\n",
              "      <td>0</td>\n",
              "      <td>0</td>\n",
              "      <td>0</td>\n",
              "      <td>0</td>\n",
              "      <td>0</td>\n",
              "      <td>0</td>\n",
              "      <td>0</td>\n",
              "      <td>0</td>\n",
              "      <td>0</td>\n",
              "      <td>0</td>\n",
              "      <td>0</td>\n",
              "      <td>0</td>\n",
              "      <td>0</td>\n",
              "      <td>0</td>\n",
              "      <td>0</td>\n",
              "      <td>0</td>\n",
              "    </tr>\n",
              "    <tr>\n",
              "      <th>6344</th>\n",
              "      <td>-34.600</td>\n",
              "      <td>-58.486</td>\n",
              "      <td>44.000</td>\n",
              "      <td>44.000</td>\n",
              "      <td>3</td>\n",
              "      <td>1</td>\n",
              "      <td>0</td>\n",
              "      <td>1</td>\n",
              "      <td>0</td>\n",
              "      <td>0</td>\n",
              "      <td>0</td>\n",
              "      <td>0</td>\n",
              "      <td>0</td>\n",
              "      <td>0</td>\n",
              "      <td>0</td>\n",
              "      <td>0</td>\n",
              "      <td>0</td>\n",
              "      <td>0</td>\n",
              "      <td>0</td>\n",
              "      <td>0</td>\n",
              "      <td>0</td>\n",
              "      <td>0</td>\n",
              "      <td>0</td>\n",
              "      <td>0</td>\n",
              "      <td>0</td>\n",
              "      <td>0</td>\n",
              "      <td>0</td>\n",
              "      <td>0</td>\n",
              "      <td>0</td>\n",
              "      <td>0</td>\n",
              "      <td>0</td>\n",
              "      <td>0</td>\n",
              "      <td>0</td>\n",
              "      <td>0</td>\n",
              "      <td>0</td>\n",
              "      <td>0</td>\n",
              "      <td>0</td>\n",
              "      <td>0</td>\n",
              "      <td>0</td>\n",
              "      <td>0</td>\n",
              "      <td>0</td>\n",
              "      <td>0</td>\n",
              "      <td>0</td>\n",
              "      <td>0</td>\n",
              "      <td>0</td>\n",
              "      <td>1</td>\n",
              "      <td>0</td>\n",
              "      <td>0</td>\n",
              "      <td>0</td>\n",
              "      <td>0</td>\n",
              "      <td>0</td>\n",
              "      <td>0</td>\n",
              "      <td>0</td>\n",
              "      <td>0</td>\n",
              "      <td>0</td>\n",
              "      <td>0</td>\n",
              "      <td>0</td>\n",
              "      <td>0</td>\n",
              "    </tr>\n",
              "    <tr>\n",
              "      <th>6308</th>\n",
              "      <td>-34.602</td>\n",
              "      <td>-58.491</td>\n",
              "      <td>46.000</td>\n",
              "      <td>39.000</td>\n",
              "      <td>1</td>\n",
              "      <td>1</td>\n",
              "      <td>0</td>\n",
              "      <td>1</td>\n",
              "      <td>0</td>\n",
              "      <td>0</td>\n",
              "      <td>0</td>\n",
              "      <td>0</td>\n",
              "      <td>0</td>\n",
              "      <td>0</td>\n",
              "      <td>0</td>\n",
              "      <td>0</td>\n",
              "      <td>0</td>\n",
              "      <td>0</td>\n",
              "      <td>0</td>\n",
              "      <td>0</td>\n",
              "      <td>0</td>\n",
              "      <td>0</td>\n",
              "      <td>0</td>\n",
              "      <td>0</td>\n",
              "      <td>0</td>\n",
              "      <td>0</td>\n",
              "      <td>0</td>\n",
              "      <td>0</td>\n",
              "      <td>0</td>\n",
              "      <td>0</td>\n",
              "      <td>0</td>\n",
              "      <td>0</td>\n",
              "      <td>0</td>\n",
              "      <td>0</td>\n",
              "      <td>0</td>\n",
              "      <td>0</td>\n",
              "      <td>0</td>\n",
              "      <td>0</td>\n",
              "      <td>0</td>\n",
              "      <td>0</td>\n",
              "      <td>0</td>\n",
              "      <td>0</td>\n",
              "      <td>0</td>\n",
              "      <td>0</td>\n",
              "      <td>0</td>\n",
              "      <td>1</td>\n",
              "      <td>0</td>\n",
              "      <td>0</td>\n",
              "      <td>0</td>\n",
              "      <td>0</td>\n",
              "      <td>0</td>\n",
              "      <td>0</td>\n",
              "      <td>0</td>\n",
              "      <td>0</td>\n",
              "      <td>0</td>\n",
              "      <td>0</td>\n",
              "      <td>0</td>\n",
              "      <td>0</td>\n",
              "    </tr>\n",
              "  </tbody>\n",
              "</table>\n",
              "</div>"
            ],
            "text/plain": [
              "         lat     lon  ...  VILLA URQUIZA  outlier_price_m2\n",
              "5162 -34.614 -58.476  ...              0                 0\n",
              "320  -34.575 -58.419  ...              0                 0\n",
              "4297 -34.608 -58.441  ...              0                 0\n",
              "6344 -34.600 -58.486  ...              0                 0\n",
              "6308 -34.602 -58.491  ...              0                 0\n",
              "\n",
              "[5 rows x 58 columns]"
            ]
          },
          "metadata": {
            "tags": []
          },
          "execution_count": 7
        }
      ]
    },
    {
      "cell_type": "code",
      "metadata": {
        "id": "qYMMI3iiY1wa",
        "colab_type": "code",
        "colab": {
          "base_uri": "https://localhost:8080/",
          "height": 119
        },
        "outputId": "7676d1a8-e8d7-46df-a709-481b20cf87af"
      },
      "source": [
        "y_train.head()"
      ],
      "execution_count": null,
      "outputs": [
        {
          "output_type": "execute_result",
          "data": {
            "text/plain": [
              "5162   117000.000\n",
              "320     90000.000\n",
              "4297   145000.000\n",
              "6344    80000.000\n",
              "6308    83000.000\n",
              "Name: price_aprox_usd, dtype: float64"
            ]
          },
          "metadata": {
            "tags": []
          },
          "execution_count": 8
        }
      ]
    },
    {
      "cell_type": "markdown",
      "metadata": {
        "id": "DzHIjwvhFyhg",
        "colab_type": "text"
      },
      "source": [
        "## Árboles de decisión\n",
        "\n",
        "Lo primero que vamos a hacer es entrenar un árbol de decisión y usar de métrica al `RMSE`. \n",
        "\n",
        "Para poder obtener el **RMSE** vamos a medir el `mean_squared_error` y obtener su raíz cuadrada. \n",
        "\n",
        "**Importá** `DecisionTreeRegressor` desde `sklearn.tree`.  \n",
        "\n",
        "A continuación **entrená** el regresor con el conjunto de training\n"
      ]
    },
    {
      "cell_type": "code",
      "metadata": {
        "id": "SOzNV-hkFyhi",
        "colab_type": "code",
        "colab": {
          "base_uri": "https://localhost:8080/",
          "height": 119
        },
        "outputId": "8a17c374-4617-4b60-87df-5a024515bc96"
      },
      "source": [
        "# En esta celda cargá el regresor y realizá el entrenamiento\n",
        "from sklearn.tree import DecisionTreeRegressor\n",
        "tree_reg = DecisionTreeRegressor()\n",
        "tree_reg.fit(x_train, y_train)"
      ],
      "execution_count": null,
      "outputs": [
        {
          "output_type": "execute_result",
          "data": {
            "text/plain": [
              "DecisionTreeRegressor(ccp_alpha=0.0, criterion='mse', max_depth=None,\n",
              "                      max_features=None, max_leaf_nodes=None,\n",
              "                      min_impurity_decrease=0.0, min_impurity_split=None,\n",
              "                      min_samples_leaf=1, min_samples_split=2,\n",
              "                      min_weight_fraction_leaf=0.0, presort='deprecated',\n",
              "                      random_state=None, splitter='best')"
            ]
          },
          "metadata": {
            "tags": []
          },
          "execution_count": 22
        }
      ]
    },
    {
      "cell_type": "markdown",
      "metadata": {
        "id": "Wel6mhz7Fyhr",
        "colab_type": "text"
      },
      "source": [
        "Con el modelo entrenado **realizá la predicción** sobre el conjunto de test `X_test` y guardá el resultado en una variable `y_pred`."
      ]
    },
    {
      "cell_type": "code",
      "metadata": {
        "id": "bqI4o2k7Fyhu",
        "colab_type": "code",
        "colab": {
          "base_uri": "https://localhost:8080/",
          "height": 34
        },
        "outputId": "5c405352-3037-43a3-a2f9-d8ff223ace98"
      },
      "source": [
        "# Acá realizá la predicción\n",
        "y_pred=tree_reg.predict(x_test)\n",
        "y_pred"
      ],
      "execution_count": null,
      "outputs": [
        {
          "output_type": "execute_result",
          "data": {
            "text/plain": [
              "array([106000.,  94900.,  85000., ...,  70000., 157000., 165000.])"
            ]
          },
          "metadata": {
            "tags": []
          },
          "execution_count": 23
        }
      ]
    },
    {
      "cell_type": "markdown",
      "metadata": {
        "id": "J1SYNHZ2Fyh3",
        "colab_type": "text"
      },
      "source": [
        "**Calculá el rmse** sacando la raíz cuadrada de `mean_squared_error` entre `y_test` e `y_pred` y **mostrá** el resultado"
      ]
    },
    {
      "cell_type": "code",
      "metadata": {
        "id": "_knheMEUFyh5",
        "colab_type": "code",
        "colab": {
          "base_uri": "https://localhost:8080/",
          "height": 34
        },
        "outputId": "899e9fe6-8538-4ade-cdac-6fdbe7321bd2"
      },
      "source": [
        "# En esta celda calculá el rmse\n",
        "from sklearn.metrics import mean_squared_error\n",
        "import numpy as np\n",
        "tree_mse = mean_squared_error(y_test, y_pred)\n",
        "print(\"El RMSE Test es : \", np.sqrt(tree_mse))"
      ],
      "execution_count": null,
      "outputs": [
        {
          "output_type": "stream",
          "text": [
            "El RMSE Test es :  26054.129194768066\n"
          ],
          "name": "stdout"
        }
      ]
    },
    {
      "cell_type": "code",
      "metadata": {
        "id": "WZoZoGleuSY9",
        "colab_type": "code",
        "colab": {
          "base_uri": "https://localhost:8080/",
          "height": 34
        },
        "outputId": "10b80476-93ce-4644-8535-76007c739e4a"
      },
      "source": [
        "#Calculo del RMSE para los datos de entrenamiento\n",
        "\n",
        "tree_reg_predict=tree_reg.predict(x_train)\n",
        "tree_reg_predict"
      ],
      "execution_count": null,
      "outputs": [
        {
          "output_type": "execute_result",
          "data": {
            "text/plain": [
              "array([117000.,  90000., 145000., ..., 165000., 155000.,  82000.])"
            ]
          },
          "metadata": {
            "tags": []
          },
          "execution_count": 25
        }
      ]
    },
    {
      "cell_type": "code",
      "metadata": {
        "id": "JgDg6XkRv_On",
        "colab_type": "code",
        "colab": {
          "base_uri": "https://localhost:8080/",
          "height": 34
        },
        "outputId": "a5b5608e-4d6e-45c1-db93-4b5a042ab027"
      },
      "source": [
        "tree_mse_train = mean_squared_error(y_train, tree_reg_predict)\n",
        "print(\"El RMSE Train es : \", np.sqrt(tree_mse_train))"
      ],
      "execution_count": null,
      "outputs": [
        {
          "output_type": "stream",
          "text": [
            "El RMSE Train es :  524.6159495069933\n"
          ],
          "name": "stdout"
        }
      ]
    },
    {
      "cell_type": "code",
      "metadata": {
        "id": "ACUnfoVJ78ou",
        "colab_type": "code",
        "colab": {
          "base_uri": "https://localhost:8080/",
          "height": 34
        },
        "outputId": "ef4882a1-c36c-4270-811b-0ebfb9bf65fa"
      },
      "source": [
        "tree_reg.tree_.max_depth"
      ],
      "execution_count": null,
      "outputs": [
        {
          "output_type": "execute_result",
          "data": {
            "text/plain": [
              "34"
            ]
          },
          "metadata": {
            "tags": []
          },
          "execution_count": 27
        }
      ]
    },
    {
      "cell_type": "markdown",
      "metadata": {
        "id": "3oKFjrPuFyiO",
        "colab_type": "text"
      },
      "source": [
        "__Analizar el cambio en el RMSE a medida que es más profundo el árbol de decisión, tanto en training como en testing.__\n",
        "\n",
        "Para esto, **iterá** de 5 en 5 en el parámetro `max_depth` y **observá** como impacta en el RMSE. \n",
        "\n",
        "**Creá** dos arreglos `rmses_train` y `rmses_test` para ir guardando los **rmse** de cada profundidad"
      ]
    },
    {
      "cell_type": "code",
      "metadata": {
        "id": "IiwXGzoQB-zi",
        "colab_type": "code",
        "colab": {
          "base_uri": "https://localhost:8080/",
          "height": 51
        },
        "outputId": "44df0bd2-a802-4999-9cfb-3a4cd12e6ccd"
      },
      "source": [
        "rmses_train=[]\n",
        "rmses_test=[]\n",
        "max_deep=list(range(1,30, 5))\n",
        "for i in max_deep:\n",
        "    tree_reg2 = DecisionTreeRegressor(max_depth=i)\n",
        "    tree_reg2.fit(x_train, y_train)\n",
        "    \n",
        "    y_pred1=tree_reg2.predict(x_train)\n",
        "    tree_mse1 = mean_squared_error(y_train, y_pred1)\n",
        "    tree_train=np.sqrt(tree_mse1)\n",
        "\n",
        "    y_pred2=tree_reg2.predict(x_test)\n",
        "    tree_mse2 = mean_squared_error(y_test, y_pred2)\n",
        "    tree_test=np.sqrt(tree_mse2)\n",
        "\n",
        "\n",
        "    rmses_train.append(tree_train)\n",
        "    rmses_test.append(tree_test)\n",
        "\n",
        "print(rmses_test, \"\\n\", rmses_train)"
      ],
      "execution_count": null,
      "outputs": [
        {
          "output_type": "stream",
          "text": [
            "[26937.54924546688, 22538.73129484442, 23512.949429604585, 25541.75406764083, 26419.019439637752, 26138.05469162274] \n",
            " [26658.471745949068, 19960.423851366526, 14484.238639324467, 7305.321030516515, 3326.7301927680323, 1016.6779646121108]\n"
          ],
          "name": "stdout"
        }
      ]
    },
    {
      "cell_type": "markdown",
      "metadata": {
        "id": "fcQWCQRnFyiQ",
        "colab_type": "text"
      },
      "source": [
        "Ahora graficamos los valores que guardamos en los arreglos `rmses_train` y `rmses_test`"
      ]
    },
    {
      "cell_type": "code",
      "metadata": {
        "scrolled": true,
        "id": "IMxHCGUaFyiS",
        "colab_type": "code",
        "colab": {
          "base_uri": "https://localhost:8080/",
          "height": 281
        },
        "outputId": "e7a6c476-049a-4d36-aec3-8ca6877e9aeb"
      },
      "source": [
        "import matplotlib.pyplot as plt\n",
        "%matplotlib inline \n",
        "plt.plot(range(1,30, 5), rmses_train, label='RMSE Training')\n",
        "plt.plot(range(1,30, 5), rmses_test, label='RMSE Testing')\n",
        "plt.ylim((0, 30000))\n",
        "plt.legend(loc=\"best\")\n",
        "plt.title(\"RMSE Training vs RMSE Testing para árboles de decisión\")\n",
        "plt.show()"
      ],
      "execution_count": null,
      "outputs": [
        {
          "output_type": "display_data",
          "data": {
            "image/png": "[encoded data removed]",
            "text/plain": [
              "<Figure size 432x288 with 1 Axes>"
            ]
          },
          "metadata": {
            "tags": []
          }
        }
      ]
    },
    {
      "cell_type": "markdown",
      "metadata": {
        "id": "lysz144YFyii",
        "colab_type": "text"
      },
      "source": [
        "Podemos ver aquí como el modelo presenta sobreajuste dado que a mayor complejidad (en este caso, mayor profundidad del árbol) más diferencia entre los resultados de training y testing. También observamos como la curva de testing decrece y luego vuelvo a crecer. El punto donde se minimiza está relacionado con el tradeoff entre sesgo y varianza que vamos a ver en la próxima unidad."
      ]
    },
    {
      "cell_type": "markdown",
      "metadata": {
        "id": "4fPbQi9RFyik",
        "colab_type": "text"
      },
      "source": [
        "## KNN"
      ]
    },
    {
      "cell_type": "markdown",
      "metadata": {
        "id": "x-SUHgcqFyim",
        "colab_type": "text"
      },
      "source": [
        "**Entrená un knn** y nuevamente medir el **rmse** en el conjunto de testing\n"
      ]
    },
    {
      "cell_type": "code",
      "metadata": {
        "id": "Zm0f94u-Fyio",
        "colab_type": "code",
        "colab": {
          "base_uri": "https://localhost:8080/",
          "height": 68
        },
        "outputId": "3069fbac-7ad2-4601-eb6f-07b012bc92fa"
      },
      "source": [
        "# Realizá el entrenamiento y el cálculo de rmse en esta celda\n",
        "\n",
        "from sklearn.neighbors import KNeighborsRegressor\n",
        "knn = KNeighborsRegressor()\n",
        "knn.fit(x_train, y_train) \n"
      ],
      "execution_count": null,
      "outputs": [
        {
          "output_type": "execute_result",
          "data": {
            "text/plain": [
              "KNeighborsRegressor(algorithm='auto', leaf_size=30, metric='minkowski',\n",
              "                    metric_params=None, n_jobs=None, n_neighbors=5, p=2,\n",
              "                    weights='uniform')"
            ]
          },
          "metadata": {
            "tags": []
          },
          "execution_count": 32
        }
      ]
    },
    {
      "cell_type": "code",
      "metadata": {
        "id": "zx7gjxjLCuOX",
        "colab_type": "code",
        "colab": {
          "base_uri": "https://localhost:8080/",
          "height": 34
        },
        "outputId": "0eeac1a5-d751-42f5-ca34-ef3c01a350c6"
      },
      "source": [
        "knn_y_pred=knn.predict(x_test)\n",
        "knn_y_pred"
      ],
      "execution_count": null,
      "outputs": [
        {
          "output_type": "execute_result",
          "data": {
            "text/plain": [
              "array([125600. , 116600. ,  85899.8, ..., 135600. , 153400. , 158800. ])"
            ]
          },
          "metadata": {
            "tags": []
          },
          "execution_count": 33
        }
      ]
    },
    {
      "cell_type": "code",
      "metadata": {
        "id": "QwEWFN6rBCMa",
        "colab_type": "code",
        "colab": {
          "base_uri": "https://localhost:8080/",
          "height": 34
        },
        "outputId": "6bc8867e-dd55-46ce-b8ec-f7d98aef3496"
      },
      "source": [
        "knn_mse = mean_squared_error(y_test, knn_y_pred)\n",
        "print(\"El RMSE Test es : \", np.sqrt(knn_mse))"
      ],
      "execution_count": null,
      "outputs": [
        {
          "output_type": "stream",
          "text": [
            "El RMSE Test es :  23850.554618530583\n"
          ],
          "name": "stdout"
        }
      ]
    },
    {
      "cell_type": "markdown",
      "metadata": {
        "id": "NxNk102UFyi0",
        "colab_type": "text"
      },
      "source": [
        "__Analizar el cambio en el RMSE a medida que consideramos más vecinos para KNN, tanto en training como en testing.__\n",
        "\n",
        "Para esto, **iterá** incrementando de a uno el parámetro `n_neighbors` y **observá** como impacta en el RMSE. \n",
        "\n",
        "**Creá** dos arreglos `rmses_train` y `rmses_test` para ir guardando los **rmse** de cada profundidad"
      ]
    },
    {
      "cell_type": "code",
      "metadata": {
        "id": "IuxYFW0SFyi4",
        "colab_type": "code",
        "colab": {
          "base_uri": "https://localhost:8080/",
          "height": 71
        },
        "outputId": "67808bae-f24f-4946-e351-21aae07104bc"
      },
      "source": [
        "# Calculá los cambio en el rmse en esta celda\n",
        "rmses_train=[]\n",
        "rmses_test=[]\n",
        "vecinos=list(range(1,30, 1))\n",
        "for i in vecinos:\n",
        "    knn2 = KNeighborsRegressor(n_neighbors=i)\n",
        "    knn2.fit(x_train, y_train)\n",
        "    \n",
        "    knn_y_pred1=knn2.predict(x_train)\n",
        "    knn_mse1 = mean_squared_error(y_train, knn_y_pred1)\n",
        "    knn_train=np.sqrt(knn_mse1)\n",
        "\n",
        "    knn_y_pred2=knn2.predict(x_test)\n",
        "    knn_mse2 = mean_squared_error(y_test, knn_y_pred2)\n",
        "    knn_test=np.sqrt(knn_mse2)\n",
        "\n",
        "\n",
        "    rmses_train.append(knn_train)\n",
        "    rmses_test.append(knn_test)\n",
        "\n",
        "print(rmses_test, \"\\n\", rmses_train)"
      ],
      "execution_count": null,
      "outputs": [
        {
          "output_type": "stream",
          "text": [
            "[28308.403141580446, 25456.822063228276, 24290.453696614713, 23929.25720218075, 23850.554618530583, 23708.279508942698, 23539.5347708353, 23432.267511477243, 23496.600774339633, 23454.472660986718, 23318.62739553956, 23301.299850425323, 23322.058009586268, 23357.39568158508, 23338.119943284997, 23346.189897538105, 23332.255549761012, 23370.441674487312, 23344.311524517776, 23380.19165848986, 23415.07827250983, 23461.50017059232, 23522.82272462045, 23540.82854042481, 23551.032947212996, 23603.948522728486, 23585.15712132058, 23597.101651821344, 23641.066658202464] \n",
            " [701.4825556507824, 13520.349226626475, 16322.564493653386, 17560.16083794874, 18449.11274302728, 19079.36181093193, 19584.09065155996, 19915.35549888701, 20181.998189595255, 20431.293120248498, 20624.992455309333, 20792.635154665877, 20974.74376337063, 21119.162446610848, 21264.544493194968, 21402.974952034052, 21511.467849399272, 21605.533707338815, 21704.417189061543, 21815.206248963565, 21902.63941973426, 21982.48823335799, 22069.323945015676, 22110.640014965607, 22162.182370943134, 22217.62649899735, 22257.964181597385, 22295.280660053362, 22356.795851672676]\n"
          ],
          "name": "stdout"
        }
      ]
    },
    {
      "cell_type": "code",
      "metadata": {
        "id": "KgEamnSBFyjI",
        "colab_type": "code",
        "colab": {
          "base_uri": "https://localhost:8080/",
          "height": 281
        },
        "outputId": "699602fd-5533-4bd4-c4cb-b17b49dbcd06"
      },
      "source": [
        "plt.plot(range(1,30, 1), rmses_train, label='RMSE Training')\n",
        "plt.plot(range(1,30, 1), rmses_test, label='RMSE Testing')\n",
        "plt.ylim((0, 30000))\n",
        "plt.legend(loc=\"best\")\n",
        "plt.title(\"RMSE Training vs RMSE Testing para KNN\")\n",
        "plt.show()"
      ],
      "execution_count": null,
      "outputs": [
        {
          "output_type": "display_data",
          "data": {
            "image/png": "[encoded data removed]",
            "text/plain": [
              "<Figure size 432x288 with 1 Axes>"
            ]
          },
          "metadata": {
            "tags": []
          }
        }
      ]
    },
    {
      "cell_type": "markdown",
      "metadata": {
        "id": "9NKXzafIFyjT",
        "colab_type": "text"
      },
      "source": [
        "**Calcular el RMSE promedio del resultado de cross validation para un árbol de decisión. \n",
        "Como parámetros deberás usar:**\n",
        "- 10 folds\n",
        "- profundidad 5\n",
        "- scoring neg_mean_squared_error.\n",
        "\n",
        "El árbol de decisión guardalo en una variable llamada `regressor` para poder reutilizarla luego.\n",
        "\n",
        "Atención: `cross_validation_score` de `scikit-learn` usá la métrica `neg_mean_squared_error` (NMSE) en vez de `mean_square_error` (MSE). \n",
        "\n",
        "`NMSE` es lo mismo que `MSE` pero con un signo negativo. \n",
        "\n",
        "Como nosotros queremos obtener el `MSE` para calcular sobre él el `RMSE`, vamos a definir un método `nmsq2rmse` para hacer esa conversión de `NMSE` a `MSE`\n",
        "."
      ]
    },
    {
      "cell_type": "code",
      "metadata": {
        "id": "Ww1MknwjFyjV",
        "colab_type": "code",
        "colab": {}
      },
      "source": [
        "def nmsq2rmse(score):\n",
        "  return np.sqrt(-score)\n"
      ],
      "execution_count": null,
      "outputs": []
    },
    {
      "cell_type": "code",
      "metadata": {
        "id": "ad4Ic8veYliV",
        "colab_type": "code",
        "colab": {
          "base_uri": "https://localhost:8080/",
          "height": 119
        },
        "outputId": "74363a97-a34c-48f7-9b32-63ca8a36b89b"
      },
      "source": [
        "regressor= DecisionTreeRegressor(max_depth=5)\n",
        "regressor"
      ],
      "execution_count": null,
      "outputs": [
        {
          "output_type": "execute_result",
          "data": {
            "text/plain": [
              "DecisionTreeRegressor(ccp_alpha=0.0, criterion='mse', max_depth=5,\n",
              "                      max_features=None, max_leaf_nodes=None,\n",
              "                      min_impurity_decrease=0.0, min_impurity_split=None,\n",
              "                      min_samples_leaf=1, min_samples_split=2,\n",
              "                      min_weight_fraction_leaf=0.0, presort='deprecated',\n",
              "                      random_state=None, splitter='best')"
            ]
          },
          "metadata": {
            "tags": []
          },
          "execution_count": 64
        }
      ]
    },
    {
      "cell_type": "code",
      "metadata": {
        "id": "XN6-nOu_Fyje",
        "colab_type": "code",
        "colab": {
          "base_uri": "https://localhost:8080/",
          "height": 85
        },
        "outputId": "7dc5f0a1-eb61-4ab8-9601-281b92275744"
      },
      "source": [
        "# Calculá en esta celda los cross_val_score\n",
        "\n",
        "from sklearn.model_selection import cross_val_score\n",
        "scores = cross_val_score(regressor, x_train, y_train, scoring=\"neg_mean_squared_error\", cv=10)\n",
        "rmse_scores = np.sqrt(-scores)\n",
        "print(\"Scores: \", rmse_scores)\n",
        "print(\"Promedio: \", rmse_scores.mean())"
      ],
      "execution_count": null,
      "outputs": [
        {
          "output_type": "stream",
          "text": [
            "Scores:  [21547.73848313 21900.35225427 21338.88369034 21806.05306003\n",
            " 22311.57723422 21091.66490951 21003.46098272 22775.31691547\n",
            " 22199.93592786 23590.26562572]\n",
            "Promedio:  21956.5249083264\n"
          ],
          "name": "stdout"
        }
      ]
    },
    {
      "cell_type": "markdown",
      "metadata": {
        "id": "oAsdMGhrFyjq",
        "colab_type": "text"
      },
      "source": [
        "Para ver el resultado final, reentrenamos al regresor y mostramos en un dataframe la comparación entre los valores reales, los predichos y su diferencia"
      ]
    },
    {
      "cell_type": "code",
      "metadata": {
        "id": "6u105avrFyjs",
        "colab_type": "code",
        "colab": {}
      },
      "source": [
        "regressor.fit(x_train, y_train)\n",
        "y_pred = regressor.predict(x_test)\n",
        "val_real = pd.Series(y_test.values)\n",
        "val_pred = pd.Series(y_pred)"
      ],
      "execution_count": null,
      "outputs": []
    },
    {
      "cell_type": "code",
      "metadata": {
        "id": "08fuAXrcFyj0",
        "colab_type": "code",
        "colab": {}
      },
      "source": [
        "predicciones = pd.concat([val_real.rename('Valor real'),val_pred.rename('Valor Pred') ,abs(val_real-val_pred).rename('Dif(+/-)')] ,  axis=1)"
      ],
      "execution_count": null,
      "outputs": []
    },
    {
      "cell_type": "code",
      "metadata": {
        "id": "WAQNH23VFyj6",
        "colab_type": "code",
        "colab": {
          "base_uri": "https://localhost:8080/",
          "height": 359
        },
        "outputId": "8ac871e0-802b-49c1-91ef-45e2a0bd84ab"
      },
      "source": [
        "predicciones.head(10)"
      ],
      "execution_count": null,
      "outputs": [
        {
          "output_type": "execute_result",
          "data": {
            "text/html": [
              "<div>\n",
              "<style scoped>\n",
              "    .dataframe tbody tr th:only-of-type {\n",
              "        vertical-align: middle;\n",
              "    }\n",
              "\n",
              "    .dataframe tbody tr th {\n",
              "        vertical-align: top;\n",
              "    }\n",
              "\n",
              "    .dataframe thead th {\n",
              "        text-align: right;\n",
              "    }\n",
              "</style>\n",
              "<table border=\"1\" class=\"dataframe\">\n",
              "  <thead>\n",
              "    <tr style=\"text-align: right;\">\n",
              "      <th></th>\n",
              "      <th>Valor real</th>\n",
              "      <th>Valor Pred</th>\n",
              "      <th>Dif(+/-)</th>\n",
              "    </tr>\n",
              "  </thead>\n",
              "  <tbody>\n",
              "    <tr>\n",
              "      <th>0</th>\n",
              "      <td>88000.000</td>\n",
              "      <td>131431.103</td>\n",
              "      <td>43431.103</td>\n",
              "    </tr>\n",
              "    <tr>\n",
              "      <th>1</th>\n",
              "      <td>85000.000</td>\n",
              "      <td>131431.103</td>\n",
              "      <td>46431.103</td>\n",
              "    </tr>\n",
              "    <tr>\n",
              "      <th>2</th>\n",
              "      <td>112500.000</td>\n",
              "      <td>81117.839</td>\n",
              "      <td>31382.161</td>\n",
              "    </tr>\n",
              "    <tr>\n",
              "      <th>3</th>\n",
              "      <td>175000.000</td>\n",
              "      <td>137663.581</td>\n",
              "      <td>37336.419</td>\n",
              "    </tr>\n",
              "    <tr>\n",
              "      <th>4</th>\n",
              "      <td>169000.000</td>\n",
              "      <td>151157.943</td>\n",
              "      <td>17842.057</td>\n",
              "    </tr>\n",
              "    <tr>\n",
              "      <th>5</th>\n",
              "      <td>119000.000</td>\n",
              "      <td>115436.546</td>\n",
              "      <td>3563.454</td>\n",
              "    </tr>\n",
              "    <tr>\n",
              "      <th>6</th>\n",
              "      <td>135000.000</td>\n",
              "      <td>114282.532</td>\n",
              "      <td>20717.468</td>\n",
              "    </tr>\n",
              "    <tr>\n",
              "      <th>7</th>\n",
              "      <td>115000.000</td>\n",
              "      <td>131431.103</td>\n",
              "      <td>16431.103</td>\n",
              "    </tr>\n",
              "    <tr>\n",
              "      <th>8</th>\n",
              "      <td>79000.000</td>\n",
              "      <td>75862.308</td>\n",
              "      <td>3137.692</td>\n",
              "    </tr>\n",
              "    <tr>\n",
              "      <th>9</th>\n",
              "      <td>77500.000</td>\n",
              "      <td>99461.330</td>\n",
              "      <td>21961.330</td>\n",
              "    </tr>\n",
              "  </tbody>\n",
              "</table>\n",
              "</div>"
            ],
            "text/plain": [
              "   Valor real  Valor Pred  Dif(+/-)\n",
              "0   88000.000  131431.103 43431.103\n",
              "1   85000.000  131431.103 46431.103\n",
              "2  112500.000   81117.839 31382.161\n",
              "3  175000.000  137663.581 37336.419\n",
              "4  169000.000  151157.943 17842.057\n",
              "5  119000.000  115436.546  3563.454\n",
              "6  135000.000  114282.532 20717.468\n",
              "7  115000.000  131431.103 16431.103\n",
              "8   79000.000   75862.308  3137.692\n",
              "9   77500.000   99461.330 21961.330"
            ]
          },
          "metadata": {
            "tags": []
          },
          "execution_count": 68
        }
      ]
    }
  ]
}